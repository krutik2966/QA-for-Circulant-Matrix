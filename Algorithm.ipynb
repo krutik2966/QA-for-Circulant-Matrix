{
 "cells": [
  {
   "cell_type": "code",
   "execution_count": 59,
   "metadata": {},
   "outputs": [],
   "source": [
    "from qiskit import QuantumRegister,QuantumCircuit,ClassicalRegister,Aer,execute\n",
    "from qiskit.tools.visualization import plot_histogram\n",
    "from qiskit.quantum_info.operators import Operator\n",
    "import numpy as np\n",
    "import math,cmath\n",
    "from scipy.linalg import circulant\n",
    "from math import pi"
   ]
  },
  {
   "cell_type": "code",
   "execution_count": 144,
   "metadata": {},
   "outputs": [],
   "source": [
    "# This code is taken from IBMQ website.\n",
    "# source : https://qiskit.org/textbook/ch-algorithms/quantum-fourier-transform.html\n",
    "\n",
    "def qft_rotations(circuit, n):\n",
    "    \"\"\"Performs qft on the first n qubits in circuit (without swaps)\"\"\"\n",
    "    if n == 0:\n",
    "        return circuit\n",
    "    n -= 1\n",
    "    circuit.h(n)\n",
    "    for qubit in range(n):\n",
    "        circuit.cu1(pi/2**(n-qubit), qubit, n)\n",
    "    # At the end of our function, we call the same function again on\n",
    "    # the next qubits (we reduced n by one earlier in the function)\n",
    "    qft_rotations(circuit, n)\n",
    "    \n",
    "def swap_registers(circuit, n):\n",
    "    for qubit in range(n//2):\n",
    "        circuit.swap(qubit, n-qubit-1)\n",
    "    return circuit\n",
    "\n",
    "def qft(circuit, n):\n",
    "    \"\"\"QFT on the first n qubits in circuit\"\"\"\n",
    "    qft_rotations(circuit, n)\n",
    "    swap_registers(circuit, n)\n",
    "    return circuit"
   ]
  },
  {
   "cell_type": "code",
   "execution_count": 145,
   "metadata": {},
   "outputs": [],
   "source": [
    "# This code is taken from IBMQ website.\n",
    "# source : https://qiskit.org/textbook/ch-algorithms/quantum-fourier-transform.html\n",
    "\n",
    "def inverse_qft(circuit, n):\n",
    "    \"\"\"Does the inverse QFT on the first n qubits in circuit\"\"\"\n",
    "    # First we create a QFT circuit of the correct size:\n",
    "    qft_circ = qft(QuantumCircuit(n), n)\n",
    "    # Then we take the inverse of this circuit\n",
    "    invqft_circ = qft_circ.inverse()\n",
    "    # And add it to the first n qubits in our existing circuit\n",
    "    circuit.append(invqft_circ, circuit.qubits[:n])\n",
    "    return circuit.decompose() # .decompose() allows us to see the individual gates"
   ]
  },
  {
   "cell_type": "code",
   "execution_count": 246,
   "metadata": {},
   "outputs": [
    {
     "data": {
      "text/plain": [
       "array([[ 0.59500984, -0.29426025,  0.38205142,  0.64297038],\n",
       "       [ 0.64297038,  0.59500984, -0.29426025,  0.38205142],\n",
       "       [ 0.38205142,  0.64297038,  0.59500984, -0.29426025],\n",
       "       [-0.29426025,  0.38205142,  0.64297038,  0.59500984]])"
      ]
     },
     "execution_count": 246,
     "metadata": {},
     "output_type": "execute_result"
    }
   ],
   "source": [
    "# arbitrary array to create circulant matrix\n",
    "c = [math.sin(1)/math.sqrt(2),math.sin(2)/math.sqrt(2),math.cos(1)/math.sqrt(2),math.cos(2)/math.sqrt(2)]\n",
    "\n",
    "# arbitrary given state 'b'\n",
    "b = [1,0,0,0]\n",
    "\n",
    "#norm of c and b has to be 1\n",
    "if np.linalg.norm(b).round(2)!=1 or np.linalg.norm(c).round(2)!=1:\n",
    "    print(\"Norm of 'c' and 'b' has to be 1\")\n",
    "    \n",
    "C = circulant(c)\n",
    "C"
   ]
  },
  {
   "cell_type": "code",
   "execution_count": 238,
   "metadata": {},
   "outputs": [
    {
     "data": {
      "text/plain": [
       "array([1.326, 0.213, 0.628, 0.213])"
      ]
     },
     "execution_count": 238,
     "metadata": {},
     "output_type": "execute_result"
    }
   ],
   "source": [
    "# Finding the eigen values of circuit\n",
    "D = np.matmul(np.fft.ifft(np.eye(4)),np.matmul(C,np.fft.fft(np.eye(4))))\n",
    "D_round = [ [round(np.real(D[j][i]),3) for i in range(len(D[j]))] for j in range(len(D))]\n",
    "e_val = np.diagonal(D_round)\n",
    "e_val"
   ]
  },
  {
   "cell_type": "code",
   "execution_count": 239,
   "metadata": {},
   "outputs": [],
   "source": [
    "q = QuantumRegister(2 + 2 + 1)\n",
    "c = ClassicalRegister(2 + 2 + 1)\n",
    "qc = QuantumCircuit(q,c)"
   ]
  },
  {
   "cell_type": "code",
   "execution_count": 240,
   "metadata": {},
   "outputs": [
    {
     "data": {
      "text/plain": [
       "<qiskit.circuit.instructionset.InstructionSet at 0x2291191d6c8>"
      ]
     },
     "execution_count": 240,
     "metadata": {},
     "output_type": "execute_result"
    }
   ],
   "source": [
    "# Initialize the state\n",
    "qc.initialize(b,q[:2])"
   ]
  },
  {
   "cell_type": "code",
   "execution_count": 241,
   "metadata": {},
   "outputs": [
    {
     "data": {
      "text/plain": [
       "<qiskit.circuit.quantumcircuit.QuantumCircuit at 0x22911b49f08>"
      ]
     },
     "execution_count": 241,
     "metadata": {},
     "output_type": "execute_result"
    }
   ],
   "source": [
    "# Apply QFT\n",
    "qft(qc,2)    "
   ]
  },
  {
   "cell_type": "code",
   "execution_count": 242,
   "metadata": {},
   "outputs": [],
   "source": [
    "# Oracle\n",
    "\n",
    "theta = [math.acos(min(abs(e_val))/e_val[i]) for i in range(4)]\n",
    "\n",
    "for i in range(4):\n",
    "    \n",
    "    if i==0:\n",
    "        qc.x(q[0:2])\n",
    "    elif i==1:\n",
    "        qc.x(q[0])\n",
    "    elif i==2:\n",
    "        qc.x(q[1])\n",
    "    \n",
    "    qc.mct([q[0],q[1]],q[2],[])\n",
    "    cunit = Operator([\n",
    "        [1, 0, 0, 0, 0, 0, 0, 0],\n",
    "        [0, 1, 0, 0, 0, 0, 0, 0],\n",
    "        [0, 0, 1, 0, 0, 0, 0, 0],\n",
    "        [0, 0, 0, 1, 0, 0, 0, 0],\n",
    "        [0, 0, 0, 0, math.cos(theta[i]), -math.sin(theta[i]), 0, 0],\n",
    "        [0, 0, 0, 0, math.sin(theta[i]),  math.cos(theta[i]), 0, 0],\n",
    "        [0, 0, 0, 0, 0, 0, math.sin(theta[i]), -math.cos(theta[i])],\n",
    "        [0, 0, 0, 0, 0, 0, math.cos(theta[i]), math.sin(theta[i])]\n",
    "    ])\n",
    "\n",
    "    qc.unitary(cunit, [2,3,4])\n",
    "    qc.mct([q[0],q[1]],q[2],[])\n",
    "\n",
    "    if i==0:\n",
    "        qc.x(q[0:2])\n",
    "    elif i==1:\n",
    "        qc.x(q[0])\n",
    "    elif i==2:\n",
    "        qc.x(q[1])"
   ]
  },
  {
   "cell_type": "code",
   "execution_count": 243,
   "metadata": {},
   "outputs": [
    {
     "data": {
      "text/plain": [
       "<qiskit.circuit.quantumcircuit.QuantumCircuit at 0x2291205c848>"
      ]
     },
     "execution_count": 243,
     "metadata": {},
     "output_type": "execute_result"
    }
   ],
   "source": [
    "inverse_qft(qc,2)"
   ]
  },
  {
   "cell_type": "code",
   "execution_count": 244,
   "metadata": {},
   "outputs": [
    {
     "data": {
      "text/html": [
       "<pre style=\"word-wrap: normal;white-space: pre;background: #fff0;line-height: 1.1;font-family: &quot;Courier New&quot;,Courier,monospace\">        ┌──────────────────────┐            ┌───┐   ┌───┐                      »\n",
       "q170_0: ┤0                     ├──────■─────┤ H ├─X─┤ X ├──■────────────────■──»\n",
       "        │  initialize(1,0,0,0) │┌───┐ │pi/2 └───┘ │ ├───┤  │                │  »\n",
       "q170_1: ┤1                     ├┤ H ├─■───────────X─┤ X ├──■────────────────■──»\n",
       "        └──────────────────────┘└───┘               └───┘┌─┴─┐┌──────────┐┌─┴─┐»\n",
       "q170_2: ─────────────────────────────────────────────────┤ X ├┤0         ├┤ X ├»\n",
       "                                                         └───┘│          │└───┘»\n",
       "q170_3: ──────────────────────────────────────────────────────┤1 unitary ├─────»\n",
       "                                                              │          │     »\n",
       "q170_4: ──────────────────────────────────────────────────────┤2         ├─────»\n",
       "                                                              └──────────┘     »\n",
       " c17_0: ═══════════════════════════════════════════════════════════════════════»\n",
       "                                                                               »\n",
       " c17_1: ═══════════════════════════════════════════════════════════════════════»\n",
       "                                                                               »\n",
       " c17_2: ═══════════════════════════════════════════════════════════════════════»\n",
       "                                                                               »\n",
       " c17_3: ═══════════════════════════════════════════════════════════════════════»\n",
       "                                                                               »\n",
       " c17_4: ═══════════════════════════════════════════════════════════════════════»\n",
       "                                                                               »\n",
       "«        ┌───┐┌───┐                      ┌───┐                                »\n",
       "«q170_0: ┤ X ├┤ X ├──■────────────────■──┤ X ├──■────────────────■─────────■──»\n",
       "«        ├───┤└───┘  │                │  ├───┤  │                │  ┌───┐  │  »\n",
       "«q170_1: ┤ X ├───────■────────────────■──┤ X ├──■────────────────■──┤ X ├──■──»\n",
       "«        └───┘     ┌─┴─┐┌──────────┐┌─┴─┐└───┘┌─┴─┐┌──────────┐┌─┴─┐└───┘┌─┴─┐»\n",
       "«q170_2: ──────────┤ X ├┤0         ├┤ X ├─────┤ X ├┤0         ├┤ X ├─────┤ X ├»\n",
       "«                  └───┘│          │└───┘     └───┘│          │└───┘     └───┘»\n",
       "«q170_3: ───────────────┤1 unitary ├───────────────┤1 unitary ├───────────────»\n",
       "«                       │          │               │          │               »\n",
       "«q170_4: ───────────────┤2         ├───────────────┤2         ├───────────────»\n",
       "«                       └──────────┘               └──────────┘               »\n",
       "« c17_0: ═════════════════════════════════════════════════════════════════════»\n",
       "«                                                                             »\n",
       "« c17_1: ═════════════════════════════════════════════════════════════════════»\n",
       "«                                                                             »\n",
       "« c17_2: ═════════════════════════════════════════════════════════════════════»\n",
       "«                                                                             »\n",
       "« c17_3: ═════════════════════════════════════════════════════════════════════»\n",
       "«                                                                             »\n",
       "« c17_4: ═════════════════════════════════════════════════════════════════════»\n",
       "«                                                                             »\n",
       "«                         ┌────────────────┐\n",
       "«q170_0: ──────────────■──┤0               ├\n",
       "«                      │  │  circuit273_dg │\n",
       "«q170_1: ──────────────■──┤1               ├\n",
       "«        ┌──────────┐┌─┴─┐└────────────────┘\n",
       "«q170_2: ┤0         ├┤ X ├──────────────────\n",
       "«        │          │└───┘                  \n",
       "«q170_3: ┤1 unitary ├───────────────────────\n",
       "«        │          │                       \n",
       "«q170_4: ┤2         ├───────────────────────\n",
       "«        └──────────┘                       \n",
       "« c17_0: ═══════════════════════════════════\n",
       "«                                           \n",
       "« c17_1: ═══════════════════════════════════\n",
       "«                                           \n",
       "« c17_2: ═══════════════════════════════════\n",
       "«                                           \n",
       "« c17_3: ═══════════════════════════════════\n",
       "«                                           \n",
       "« c17_4: ═══════════════════════════════════\n",
       "«                                           </pre>"
      ],
      "text/plain": [
       "        ┌──────────────────────┐            ┌───┐   ┌───┐                      »\n",
       "q170_0: ┤0                     ├──────■─────┤ H ├─X─┤ X ├──■────────────────■──»\n",
       "        │  initialize(1,0,0,0) │┌───┐ │pi/2 └───┘ │ ├───┤  │                │  »\n",
       "q170_1: ┤1                     ├┤ H ├─■───────────X─┤ X ├──■────────────────■──»\n",
       "        └──────────────────────┘└───┘               └───┘┌─┴─┐┌──────────┐┌─┴─┐»\n",
       "q170_2: ─────────────────────────────────────────────────┤ X ├┤0         ├┤ X ├»\n",
       "                                                         └───┘│          │└───┘»\n",
       "q170_3: ──────────────────────────────────────────────────────┤1 unitary ├─────»\n",
       "                                                              │          │     »\n",
       "q170_4: ──────────────────────────────────────────────────────┤2         ├─────»\n",
       "                                                              └──────────┘     »\n",
       " c17_0: ═══════════════════════════════════════════════════════════════════════»\n",
       "                                                                               »\n",
       " c17_1: ═══════════════════════════════════════════════════════════════════════»\n",
       "                                                                               »\n",
       " c17_2: ═══════════════════════════════════════════════════════════════════════»\n",
       "                                                                               »\n",
       " c17_3: ═══════════════════════════════════════════════════════════════════════»\n",
       "                                                                               »\n",
       " c17_4: ═══════════════════════════════════════════════════════════════════════»\n",
       "                                                                               »\n",
       "«        ┌───┐┌───┐                      ┌───┐                                »\n",
       "«q170_0: ┤ X ├┤ X ├──■────────────────■──┤ X ├──■────────────────■─────────■──»\n",
       "«        ├───┤└───┘  │                │  ├───┤  │                │  ┌───┐  │  »\n",
       "«q170_1: ┤ X ├───────■────────────────■──┤ X ├──■────────────────■──┤ X ├──■──»\n",
       "«        └───┘     ┌─┴─┐┌──────────┐┌─┴─┐└───┘┌─┴─┐┌──────────┐┌─┴─┐└───┘┌─┴─┐»\n",
       "«q170_2: ──────────┤ X ├┤0         ├┤ X ├─────┤ X ├┤0         ├┤ X ├─────┤ X ├»\n",
       "«                  └───┘│          │└───┘     └───┘│          │└───┘     └───┘»\n",
       "«q170_3: ───────────────┤1 unitary ├───────────────┤1 unitary ├───────────────»\n",
       "«                       │          │               │          │               »\n",
       "«q170_4: ───────────────┤2         ├───────────────┤2         ├───────────────»\n",
       "«                       └──────────┘               └──────────┘               »\n",
       "« c17_0: ═════════════════════════════════════════════════════════════════════»\n",
       "«                                                                             »\n",
       "« c17_1: ═════════════════════════════════════════════════════════════════════»\n",
       "«                                                                             »\n",
       "« c17_2: ═════════════════════════════════════════════════════════════════════»\n",
       "«                                                                             »\n",
       "« c17_3: ═════════════════════════════════════════════════════════════════════»\n",
       "«                                                                             »\n",
       "« c17_4: ═════════════════════════════════════════════════════════════════════»\n",
       "«                                                                             »\n",
       "«                         ┌────────────────┐\n",
       "«q170_0: ──────────────■──┤0               ├\n",
       "«                      │  │  circuit273_dg │\n",
       "«q170_1: ──────────────■──┤1               ├\n",
       "«        ┌──────────┐┌─┴─┐└────────────────┘\n",
       "«q170_2: ┤0         ├┤ X ├──────────────────\n",
       "«        │          │└───┘                  \n",
       "«q170_3: ┤1 unitary ├───────────────────────\n",
       "«        │          │                       \n",
       "«q170_4: ┤2         ├───────────────────────\n",
       "«        └──────────┘                       \n",
       "« c17_0: ═══════════════════════════════════\n",
       "«                                           \n",
       "« c17_1: ═══════════════════════════════════\n",
       "«                                           \n",
       "« c17_2: ═══════════════════════════════════\n",
       "«                                           \n",
       "« c17_3: ═══════════════════════════════════\n",
       "«                                           \n",
       "« c17_4: ═══════════════════════════════════\n",
       "«                                           "
      ]
     },
     "execution_count": 244,
     "metadata": {},
     "output_type": "execute_result"
    }
   ],
   "source": [
    "qc.draw()"
   ]
  },
  {
   "cell_type": "code",
   "execution_count": 249,
   "metadata": {},
   "outputs": [
    {
     "name": "stdout",
     "output_type": "stream",
     "text": [
      "Correct answer: [ 0.702 -0.717  0.471  0.298]\n",
      "Recieved Answer:\n"
     ]
    },
    {
     "data": {
      "image/png": "[encoded data removed]",
      "text/plain": [
       "<Figure size 504x360 with 1 Axes>"
      ]
     },
     "execution_count": 249,
     "metadata": {},
     "output_type": "execute_result"
    }
   ],
   "source": [
    "ans = np.matmul(np.linalg.inv(C),b).round(3)\n",
    "print(\"Correct answer:\",ans)\n",
    "\n",
    "back=Aer.get_backend('qasm_simulator')\n",
    "result=execute(qc,back,shots=1048).result()\n",
    "print(\"Recieved Answer:\")\n",
    "plot_histogram(result.get_counts())"
   ]
  },
  {
   "cell_type": "code",
   "execution_count": null,
   "metadata": {},
   "outputs": [],
   "source": []
  }
 ],
 "metadata": {
  "kernelspec": {
   "display_name": "Python 3",
   "language": "python",
   "name": "python3"
  },
  "language_info": {
   "codemirror_mode": {
    "name": "ipython",
    "version": 3
   },
   "file_extension": ".py",
   "mimetype": "text/x-python",
   "name": "python",
   "nbconvert_exporter": "python",
   "pygments_lexer": "ipython3",
   "version": "3.7.4"
  }
 },
 "nbformat": 4,
 "nbformat_minor": 2
}
